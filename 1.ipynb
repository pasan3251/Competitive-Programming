{
 "cells": [
  {
   "cell_type": "markdown",
   "id": "b1cacc57",
   "metadata": {},
   "source": [
    "# Number Theory"
   ]
  },
  {
   "cell_type": "markdown",
   "id": "bd12005f",
   "metadata": {},
   "source": [
    "Get divisor count"
   ]
  },
  {
   "cell_type": "code",
   "execution_count": 2,
   "id": "b803edfc",
   "metadata": {},
   "outputs": [
    {
     "name": "stdout",
     "output_type": "stream",
     "text": [
      "6\n",
      "8\n"
     ]
    }
   ],
   "source": [
    "#!/usr/bin/env python3\n",
    "# -*- coding: utf-8 -*-\n",
    "# vim: set fileencoding=utf-8 :\n",
    "\n",
    "def divisor_count(x):\n",
    "    ret = 1\n",
    "    p = 2\n",
    "    while p * p <= x:\n",
    "        exp = 0\n",
    "        while x % p == 0:\n",
    "            x //= p\n",
    "            exp += 1\n",
    "        ret *= (exp + 1)\n",
    "        p += 1\n",
    "    if x > 1:\n",
    "        ret *= 2\n",
    "    return ret\n",
    "\n",
    "print(divisor_count(12))  # 6 (divisors: 1,2,3,4,6,12)\n",
    "print(divisor_count(30))  # 8 (divisors: 1,2,3,5,6,10,15,30)"
   ]
  },
  {
   "cell_type": "markdown",
   "id": "5e05319b",
   "metadata": {},
   "source": [
    "Get prime factor count"
   ]
  },
  {
   "cell_type": "code",
   "execution_count": null,
   "id": "b055e32a",
   "metadata": {},
   "outputs": [
    {
     "name": "stdout",
     "output_type": "stream",
     "text": [
      "3\n",
      "3\n",
      "4\n",
      "1\n"
     ]
    }
   ],
   "source": [
    "#!/usr/bin/env python3\n",
    "# -*- coding: utf-8 -*-\n",
    "# vim: set fileencoding=utf-8 :\n",
    "\n",
    "import math\n",
    "\n",
    "\n",
    "def sieve(limit):\n",
    "    \"\"\"Generate list of primes up to 'limit' using Sieve of Eratosthenes.\"\"\"\n",
    "    is_prime = [True] * (limit + 1)\n",
    "    is_prime[0:2] = [False, False]  # 0 and 1 are not prime\n",
    "    primes = []\n",
    "    \n",
    "    for num in range(2, limit + 1):\n",
    "        if is_prime[num]:\n",
    "            primes.append(num)\n",
    "            \n",
    "            # Mark all multiples of num as non-prime\n",
    "            for multiple in range(num * num, limit + 1, num):\n",
    "                is_prime[multiple] = False\n",
    "                \n",
    "    return primes\n",
    "\n",
    "\n",
    "def prime_factor_count(x):\n",
    "    \"\"\"Return number of prime factors (with multiplicity) of x.\"\"\"\n",
    "    ret = 0                # Initialize count of prime factors\n",
    "    limit = math.isqrt(x)  # floor(sqrt(x)) -> limit for sieve\n",
    "    primes = sieve(limit)\n",
    "\n",
    "    for p in primes:\n",
    "        \n",
    "        # checks if p is a divisor of x\n",
    "        while x % p == 0:\n",
    "            x //= p         # integer divide x\n",
    "            ret += 1        # increment p_fac count\n",
    "        if x == 1:\n",
    "            break\n",
    "\n",
    "    if x > 1:               # leftover prime > sqrt(original x)\n",
    "        ret += 1\n",
    "\n",
    "    return ret\n",
    "\n",
    "            \n",
    "print(prime_factor_count(12))   # 3 (2, 2, 3)\n",
    "print(prime_factor_count(30))   # 3 (2, 3, 5)\n",
    "print(prime_factor_count(60))   # 4 (2, 2, 3, 5)\n",
    "print(prime_factor_count(97))   # 1 (97 itself, since it's prime)\n"
   ]
  }
 ],
 "metadata": {
  "kernelspec": {
   "display_name": "base",
   "language": "python",
   "name": "python3"
  },
  "language_info": {
   "codemirror_mode": {
    "name": "ipython",
    "version": 3
   },
   "file_extension": ".py",
   "mimetype": "text/x-python",
   "name": "python",
   "nbconvert_exporter": "python",
   "pygments_lexer": "ipython3",
   "version": "3.13.5"
  }
 },
 "nbformat": 4,
 "nbformat_minor": 5
}
